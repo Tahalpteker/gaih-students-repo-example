{
  "nbformat": 4,
  "nbformat_minor": 0,
  "metadata": {
    "colab": {
      "name": "Untitled2.ipynb",
      "provenance": []
    },
    "kernelspec": {
      "name": "python3",
      "display_name": "Python 3"
    }
  },
  "cells": [
    {
      "cell_type": "code",
      "metadata": {
        "id": "uLjFe6VOM7Fb",
        "colab": {
          "base_uri": "https://localhost:8080/"
        },
        "outputId": "0b4438a4-b562-4838-ae4e-3eeadeb39206"
      },
      "source": [
        "a1 = int(input('Please enter your homework point:'))\r\n",
        "if a<0 or a>100:\r\n",
        "  print('nothing happend, please try again!')\r\n",
        "else:\r\n",
        "  print('Next')\r\n",
        "b1 = int(input('Please enter your midterm point:'))\r\n",
        "if b<0 or b>100:\r\n",
        "  print('nothing happend, please try again!')\r\n",
        "else:\r\n",
        "  print('Next')\r\n",
        "c1 = int(input('Please enter your final point:'))\r\n",
        "if c<0 or c>100:\r\n",
        "  print('nothing happend, please try again!')\r\n",
        "else:\r\n",
        "  print('Thank you!')\r\n",
        "d = ((a+b+c)//3)\r\n",
        "a2 = int(input('Please enter your homework point:'))\r\n",
        "if a2<0 or a2>100:\r\n",
        "  print('nothing happend, please try again!')\r\n",
        "else:\r\n",
        "  print('Next')\r\n",
        "b2 = int(input('Please enter your midterm point:'))\r\n",
        "if b2<0 or b2>100:\r\n",
        "  print('nothing happend, please try again!')\r\n",
        "else:\r\n",
        "  print('Next')\r\n",
        "c2 = int(input('Please enter your final point:'))\r\n",
        "if c2<0 or c2>100:\r\n",
        "  print('nothing happend, please try again!')\r\n",
        "else:\r\n",
        "  print('Thank you!')\r\n",
        "d2 = ((a2+b2+c2)//3)\r\n",
        "a3 = int(input('Please enter your homework point:'))\r\n",
        "if a3<0 or a3>100:\r\n",
        "  print('nothing happend, please try again!')\r\n",
        "else:\r\n",
        "  print('Next')\r\n",
        "b3 = int(input('Please enter your midterm point:'))\r\n",
        "if b3<0 or b3>100:\r\n",
        "  print('nothing happend, please try again!')\r\n",
        "else:\r\n",
        "  print('Next')\r\n",
        "c3 = int(input('Please enter your final point:'))\r\n",
        "if c3<0 or c3>100:\r\n",
        "  print('nothing happend, please try again!')\r\n",
        "else:\r\n",
        "  print('Thank you!')\r\n",
        "d3 = ((a3+b3+c3)//3)\r\n",
        "a4 = int(input('Please enter your homework point:'))\r\n",
        "if a4<0 or a4>100:\r\n",
        "  print('nothing happend, please try again!')\r\n",
        "else:\r\n",
        "  print('Next')\r\n",
        "b4 = int(input('Please enter your midterm point:'))\r\n",
        "if b4<0 or b4>100:\r\n",
        "  print('nothing happend, please try again!')\r\n",
        "else:\r\n",
        "  print('Next')\r\n",
        "c4 = int(input('Please enter your final point:'))\r\n",
        "if c4<0 or c4>100:\r\n",
        "  print('nothing happend, please try again!')\r\n",
        "else:\r\n",
        "  print('Thank you!')\r\n",
        "d4 = ((a4+b4+c4)//3)\r\n",
        "a5 = int(input('Please enter your homework point:'))\r\n",
        "if a5<0 or a5>100:\r\n",
        "  print('nothing happend, please try again!')\r\n",
        "else:\r\n",
        "  print('Next')\r\n",
        "b5 = int(input('Please enter your midterm point:'))\r\n",
        "if b5<0 or b5>100:\r\n",
        "  print('nothing happend, please try again!')\r\n",
        "else:\r\n",
        "  print('Next')\r\n",
        "c5 = int(input('Please enter your final point:'))\r\n",
        "if c5<0 or c5>100:\r\n",
        "  print('nothing happend, please try again!')\r\n",
        "else:\r\n",
        "  print('Thank you!')\r\n",
        "d5= ((a5+b5+c5)//3)\r\n",
        "dict = {d:'studentA', d2:'studentB', d3:'studentC', d4:'studentD', d5:'studentE'}\r\n",
        "list=[d,d2,d3,d4,d5]\r\n",
        "max(list)\r\n",
        "print(\"congrats who takes =\", max(list))"
      ],
      "execution_count": 95,
      "outputs": [
        {
          "output_type": "stream",
          "text": [
            "Please enter your homework point:5\n",
            "Next\n",
            "Please enter your midterm point:7\n",
            "Next\n",
            "Please enter your final point:4\n",
            "Thank you!\n",
            "Please enter your homework point:7\n",
            "Next\n",
            "Please enter your midterm point:31\n",
            "Next\n",
            "Please enter your final point:65\n",
            "Thank you!\n",
            "Please enter your homework point:98\n",
            "Next\n",
            "Please enter your midterm point:34\n",
            "Next\n",
            "Please enter your final point:35\n",
            "Thank you!\n",
            "Please enter your homework point:85\n",
            "Next\n",
            "Please enter your midterm point:4\n",
            "Next\n",
            "Please enter your final point:5\n",
            "Thank you!\n",
            "Please enter your homework point:8\n",
            "Next\n",
            "Please enter your midterm point:9\n",
            "Next\n",
            "Please enter your final point:69\n",
            "Thank you!\n",
            "congrats who takes= 68\n"
          ],
          "name": "stdout"
        }
      ]
    },
    {
      "cell_type": "code",
      "metadata": {
        "colab": {
          "base_uri": "https://localhost:8080/"
        },
        "id": "doRhhlwShbgp",
        "outputId": "25586f48-be26-458e-a891-09ebb5dc8d49"
      },
      "source": [
        "x=8\r\n",
        "y=9\r\n",
        "z=6\r\n",
        "list=[x,y,z]\r\n",
        "max(list)\r\n",
        "print(\"tevb\", max(list))"
      ],
      "execution_count": 93,
      "outputs": [
        {
          "output_type": "stream",
          "text": [
            "tevb 9\n"
          ],
          "name": "stdout"
        }
      ]
    },
    {
      "cell_type": "code",
      "metadata": {
        "colab": {
          "base_uri": "https://localhost:8080/",
          "height": 129
        },
        "id": "FFD42cJ5gs1I",
        "outputId": "e009cd97-5c99-4692-cbab-f80423d473e0"
      },
      "source": [
        ""
      ],
      "execution_count": 88,
      "outputs": [
        {
          "output_type": "error",
          "ename": "SyntaxError",
          "evalue": "ignored",
          "traceback": [
            "\u001b[0;36m  File \u001b[0;32m\"<ipython-input-88-78eee902f55e>\"\u001b[0;36m, line \u001b[0;32m5\u001b[0m\n\u001b[0;31m    print(max list,\"t\")\u001b[0m\n\u001b[0m                 ^\u001b[0m\n\u001b[0;31mSyntaxError\u001b[0m\u001b[0;31m:\u001b[0m invalid syntax\n"
          ]
        }
      ]
    }
  ]
}