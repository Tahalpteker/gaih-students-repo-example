{
  "nbformat": 4,
  "nbformat_minor": 0,
  "metadata": {
    "colab": {
      "name": "Untitled2.ipynb",
      "provenance": []
    },
    "kernelspec": {
      "name": "python3",
      "display_name": "Python 3"
    }
  },
  "cells": [
    {
      "cell_type": "code",
      "metadata": {
        "id": "uLjFe6VOM7Fb"
      },
      "source": [
        "prime1 = \"43  \"+\"41  \"+\"31\"\r\n",
        "prime2 = \"29  \"+\"23  \"+\"11\"\r\n",
        "prime3 = \"13  \"+\"17  \"+\"19\"\r\n",
        "list = [prime1,prime2,prime3]\r\n",
        "for i in list:\r\n",
        "  print(i,\"\\n\")"
      ],
      "execution_count": null,
      "outputs": []
    }
  ]
}